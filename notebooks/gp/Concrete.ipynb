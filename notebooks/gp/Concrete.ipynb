{
 "cells": [
  {
   "cell_type": "code",
   "execution_count": 2,
   "metadata": {},
   "outputs": [
    {
     "name": "stderr",
     "output_type": "stream",
     "text": [
      "/home/daniel/.virtualenvs/IGRlaptop21/thesis/lib/python2.7/site-packages/h5py-2.7.0-py2.7-linux-x86_64.egg/h5py/__init__.py:34: FutureWarning: Conversion of the second argument of issubdtype from `float` to `np.floating` is deprecated. In future, it will be treated as `np.float64 == np.dtype(float).type`.\n",
      "  from ._conv import register_converters as _register_converters\n"
     ]
    }
   ],
   "source": [
    "import pandas as pd\n",
    "import pymc3 as pm\n",
    "import numpy as np"
   ]
  },
  {
   "cell_type": "code",
   "execution_count": 3,
   "metadata": {},
   "outputs": [],
   "source": [
    "data = pd.read_csv(\"../../data/concrete.csv\")"
   ]
  },
  {
   "cell_type": "code",
   "execution_count": 4,
   "metadata": {},
   "outputs": [
    {
     "data": {
      "text/plain": [
       "(1030, 8)"
      ]
     },
     "execution_count": 4,
     "metadata": {},
     "output_type": "execute_result"
    }
   ],
   "source": [
    "np.array(data[data.columns[:-1]]).shape"
   ]
  },
  {
   "cell_type": "code",
   "execution_count": 5,
   "metadata": {},
   "outputs": [
    {
     "name": "stderr",
     "output_type": "stream",
     "text": [
      "/home/daniel/.virtualenvs/IGRlaptop21/thesis/lib/python2.7/site-packages/theano/tensor/basic.py:6592: FutureWarning: Using a non-tuple sequence for multidimensional indexing is deprecated; use `arr[tuple(seq)]` instead of `arr[seq]`. In the future this will be interpreted as an array index, `arr[np.array(seq)]`, which will result either in an error or a different result.\n",
      "  result[diagonal_slice] = x\n"
     ]
    }
   ],
   "source": [
    "with pm.Model() as model:\n",
    "    \n",
    "    amp = pm.Normal(\"amplitude\", 1, 1)\n",
    "    ls = [0.012, 0.012] #\n",
    "    ls = pm.Normal(\"metric\", mu=1, sd=1, shape=8) #pm.Gamma(\"metric\", alpha=3, beta=0.5, shape=2)\n",
    "    # Specify the covariance function.\n",
    "    cov_func = amp * pm.gp.cov.ExpQuad(8, ls=ls) #+ pm.gp.cov.WhiteNoise(1)\n",
    "\n",
    "    # Specify the GP.  The default mean function is `Zero`.\n",
    "    gp = pm.gp.Marginal(cov_func=cov_func)\n",
    "\n",
    "    # \n",
    "    sigma = pm.Normal(\"sigma\", 0.1, 0.1)\n",
    "    y_ = gp.marginal_likelihood(\"y\", X=np.array(data[data.columns[0:-1]]), y=np.array(data[data.columns[-1]]), noise=sigma)"
   ]
  },
  {
   "cell_type": "code",
   "execution_count": 6,
   "metadata": {},
   "outputs": [
    {
     "name": "stderr",
     "output_type": "stream",
     "text": [
      "/home/daniel/.virtualenvs/IGRlaptop21/thesis/lib/python2.7/site-packages/pymc3/tuning/starting.py:61: UserWarning: find_MAP should not be used to initialize the NUTS sampler, simply call pymc3.sample() and it will automatically initialize NUTS in a better way.\n",
      "  warnings.warn('find_MAP should not be used to initialize the NUTS sampler, simply call pymc3.sample() and it will automatically initialize NUTS in a better way.')\n",
      "logp = -11,830, ||grad|| = 0.42333: 100%|██████████| 66/66 [03:59<00:00,  3.62s/it]           \n"
     ]
    }
   ],
   "source": [
    "with model:\n",
    "    mp = pm.find_MAP()"
   ]
  },
  {
   "cell_type": "code",
   "execution_count": 7,
   "metadata": {},
   "outputs": [],
   "source": [
    "hold = np.array(data[:1])\n",
    "new_x = np.ones((1000,8))\n",
    "new_x *= hold[0, :-1]\n",
    "new_x[:,-1] = np.linspace(0,365, 1000)"
   ]
  },
  {
   "cell_type": "code",
   "execution_count": 8,
   "metadata": {},
   "outputs": [],
   "source": [
    "import matplotlib.pyplot as plt"
   ]
  },
  {
   "cell_type": "code",
   "execution_count": 9,
   "metadata": {},
   "outputs": [],
   "source": [
    "with model:\n",
    "    mu, var = gp.predict(new_x, point=mp, diag=True)"
   ]
  },
  {
   "cell_type": "code",
   "execution_count": 10,
   "metadata": {},
   "outputs": [
    {
     "data": {
      "text/plain": [
       "[<matplotlib.lines.Line2D at 0x7f0f4830d410>]"
      ]
     },
     "execution_count": 10,
     "metadata": {},
     "output_type": "execute_result"
    },
    {
     "name": "stderr",
     "output_type": "stream",
     "text": [
      "/home/daniel/.virtualenvs/IGRlaptop21/thesis/lib/python2.7/site-packages/matplotlib/font_manager.py:1297: UserWarning: findfont: Font family [u\"'URW Bookman L'\"] not found. Falling back to DejaVu Sans\n",
      "  (prop.get_family(), self.defaultFamily[fontext]))\n"
     ]
    },
    {
     "data": {
      "image/png": "[encoded data removed]",
      "text/plain": [
       "<matplotlib.figure.Figure at 0x7f0f4f718910>"
      ]
     },
     "metadata": {
      "needs_background": "light"
     },
     "output_type": "display_data"
    }
   ],
   "source": [
    "plt.plot(np.linspace(0,365, 1000), mu)"
   ]
  },
  {
   "cell_type": "code",
   "execution_count": 11,
   "metadata": {},
   "outputs": [],
   "source": [
    "import thesis"
   ]
  },
  {
   "cell_type": "code",
   "execution_count": 12,
   "metadata": {},
   "outputs": [
    {
     "data": {
      "text/plain": [
       "4.5399929762484854e-05"
      ]
     },
     "execution_count": 12,
     "metadata": {},
     "output_type": "execute_result"
    }
   ],
   "source": [
    "np.exp(-10)"
   ]
  },
  {
   "cell_type": "code",
   "execution_count": 13,
   "metadata": {},
   "outputs": [
    {
     "data": {
      "text/plain": [
       "Index([u'Cement (component 1)(kg in a m^3 mixture)',\n",
       "       u'Blast Furnace Slag (component 2)(kg in a m^3 mixture)',\n",
       "       u'Fly Ash (component 3)(kg in a m^3 mixture)',\n",
       "       u'Water  (component 4)(kg in a m^3 mixture)',\n",
       "       u'Superplasticizer (component 5)(kg in a m^3 mixture)',\n",
       "       u'Coarse Aggregate  (component 6)(kg in a m^3 mixture)',\n",
       "       u'Fine Aggregate (component 7)(kg in a m^3 mixture)', u'Age (day)',\n",
       "       u'Concrete compressive strength(MPa, megapascals) '],\n",
       "      dtype='object')"
      ]
     },
     "execution_count": 13,
     "metadata": {},
     "output_type": "execute_result"
    }
   ],
   "source": [
    "data.columns"
   ]
  },
  {
   "cell_type": "code",
   "execution_count": 14,
   "metadata": {},
   "outputs": [],
   "source": [
    "colnames = [\n",
    "    \"Cement\\n[kg/m^3]\", \"Slag\\n[kg/m^3]\", \"Fly ash\\n[kg/m^3]\", \"Water\\n[kg/m^3]\", \n",
    "    \"Superplasticiser [kg/m^3]\", \"Coarse aggregate [kg/m^3]\", \"Fine aggregate [kg/m^3]\", \"Age [days]\"\n",
    "           ]"
   ]
  },
  {
   "cell_type": "code",
   "execution_count": 15,
   "metadata": {},
   "outputs": [
    {
     "data": {
      "image/png": "[encoded data removed]",
      "text/plain": [
       "<matplotlib.figure.Figure at 0x7f0f482c6510>"
      ]
     },
     "metadata": {
      "needs_background": "light"
     },
     "output_type": "display_data"
    }
   ],
   "source": [
    "column = 0\n",
    "\n",
    "f, ax = plt.subplots(1,8, sharey=True)\n",
    "\n",
    "for column in xrange(8):\n",
    "\n",
    "    hold = np.array(data[:1])\n",
    "    new_x = np.ones((100,8))\n",
    "    new_x *= hold[0, :-1]\n",
    "    new_x[:,column] = np.linspace(data[data.columns[column]].min(),data[data.columns[column]].max(), 100)\n",
    "\n",
    "    with model:\n",
    "        mu, var = gp.predict(new_x, point=mp, diag=True)\n",
    "\n",
    "    ax[column].plot(new_x[:,column], mu)\n",
    "    ax[column].fill_between(new_x[:,column], mu-np.sqrt(var), mu+np.sqrt(var), alpha=0.3)\n",
    "    ax[column].set_ylim([0,100])\n",
    "    ax[column].set_xlabel(colnames[column])\n",
    "thesis.thesisify(f)\n",
    "\n",
    "f.subplots_adjust(wspace=0.01)"
   ]
  },
  {
   "cell_type": "code",
   "execution_count": null,
   "metadata": {},
   "outputs": [],
   "source": []
  }
 ],
 "metadata": {
  "kernelspec": {
   "display_name": "Python 2",
   "language": "python",
   "name": "python2"
  },
  "language_info": {
   "codemirror_mode": {
    "name": "ipython",
    "version": 2
   },
   "file_extension": ".py",
   "mimetype": "text/x-python",
   "name": "python",
   "nbconvert_exporter": "python",
   "pygments_lexer": "ipython2",
   "version": "2.7.12"
  }
 },
 "nbformat": 4,
 "nbformat_minor": 2
}
