{
 "cells": [
  {
   "cell_type": "code",
   "execution_count": 1,
   "metadata": {
    "collapsed": true
   },
   "outputs": [],
   "source": [
    "fig_dir = \"../../figures/\"\n",
    "fig_ext = \"pdf\""
   ]
  },
  {
   "cell_type": "code",
   "execution_count": 2,
   "metadata": {
    "collapsed": false
   },
   "outputs": [],
   "source": [
    "from minke import sources"
   ]
  },
  {
   "cell_type": "code",
   "execution_count": 3,
   "metadata": {
    "collapsed": true
   },
   "outputs": [],
   "source": [
    "import matplotlib.pyplot as plt\n",
    "#import thesis\n",
    "%matplotlib inline"
   ]
  },
  {
   "cell_type": "code",
   "execution_count": 4,
   "metadata": {
    "collapsed": false
   },
   "outputs": [],
   "source": [
    "from gwpy.timeseries import TimeSeries"
   ]
  },
  {
   "cell_type": "code",
   "execution_count": 5,
   "metadata": {
    "collapsed": true
   },
   "outputs": [],
   "source": [
    "source_list = [sources.Gaussian(duration = 0.01, hrss = 1e-21, time = 100 ),\n",
    "           sources.SineGaussian(q=8, frequency=100, hrss=1e-21, time=100, polarisation='linear'),\n",
    "           sources.WhiteNoiseBurst(duration=0.05, bandwidth=1000, frequency=1000, hrss=1e-21, time=100),\n",
    "               #sources.BBHRingdown(time=100, phi0=0, mass=20, spin=0, massloss=4, distance=100, inclination=0)\n",
    "          ]"
   ]
  },
  {
   "cell_type": "code",
   "execution_count": 6,
   "metadata": {
    "collapsed": true
   },
   "outputs": [],
   "source": [
    "from matplotlib import rc, font_manager\n",
    "from math import atan2,degrees\n",
    "import numpy as np\n",
    "from matplotlib import rc, font_manager\n",
    "import matplotlib.patheffects as path_effects\n",
    "\n",
    "colors = {\"blue\": \"#348ABD\",\n",
    "          \"red\": \"#E24A33\",\n",
    "          \"purple\": \"#988ED5\",\n",
    "          \"gray\": \"#777777\",\n",
    "          \"yellow\": \"#FBC15E\",\n",
    "}\n",
    "\n",
    "figwidth = 5 # 2.5\n",
    "figheight = figwidth/1.616\n",
    "figsize = (figwidth, figheight)\n",
    "\n",
    "\n",
    "## FONTS\n",
    "\n",
    "ssp_legend = {'family': 'Source Code Pro',\n",
    "              'weight': 'normal',\n",
    "              'size': 9,\n",
    "}\n",
    "\n",
    "lato = {'family': 'Lato',\n",
    "        'color':  'black',\n",
    "        'weight': 'light',\n",
    "        'size': 11,\n",
    "}\n",
    "ssp_ticks = {'family': 'Source Code Pro',\n",
    "             'weight': 'light',\n",
    "             'size': 9,\n",
    "}\n",
    "\n",
    "ticks_font = font_manager.FontProperties(**ssp_ticks)\n",
    "\n",
    "def thesisify(f, height=1):\n",
    "    rc(\"mathtext\", fontset=\"custom\", sf=\"Source Code Pro\", tt=\"Source Code Pro\", rm=\"Source Code Pro\")\n",
    "    # make the figure look the correct size\n",
    "    f.set_figwidth(figwidth)\n",
    "    f.set_figheight(height * figheight)\n",
    "\n",
    "    # individual axis manipulations\n",
    "    for ax in f.axes:\n",
    "        #ax.get_yaxis().get_major_formatter()._useMathText=False\n",
    "        #ax.get_xaxis().get_major_formatter()._useMathText=False\n",
    "        for label in ax.get_xticklabels():\n",
    "            label.set_fontproperties(ticks_font)\n",
    "        ax.set_xlabel(ax.get_xlabel(), fontdict=lato)  \n",
    "        ax.xaxis.get_offset_text().set_fontproperties(ticks_font)\n",
    "        for label in ax.get_yticklabels():\n",
    "            label.set_fontproperties(ticks_font)\n",
    "        ax.set_ylabel(ax.get_ylabel(), fontdict=lato) \n",
    "        ax.yaxis.get_offset_text().set_fontproperties(ticks_font)\n",
    "        \n",
    "        if len(ax.get_ygridlines()) > 0:\n",
    "            ax.grid(which=\"both\", color='#348ABD', alpha=0.2, lw=0.3,)\n",
    "        \n",
    "    f.tight_layout()\n",
    "    return f\n"
   ]
  },
  {
   "cell_type": "code",
   "execution_count": 12,
   "metadata": {
    "collapsed": false
   },
   "outputs": [
    {
     "name": "stdout",
     "output_type": "stream",
     "text": [
      "3441\n",
      "4381\n",
      "17203\n"
     ]
    },
    {
     "data": {
      "image/png": "[encoded data removed]",
      "text/plain": [
       "<Figure size 1500x649.752 with 3 Axes>"
      ]
     },
     "metadata": {},
     "output_type": "display_data"
    }
   ],
   "source": [
    "f, ax = plt.subplots(1,len(source_list), dpi=300, sharey=True)\n",
    "\n",
    "for i, source in enumerate(source_list):\n",
    "    data = source._generate()\n",
    "    print(len(data[0].data.data))\n",
    "    data_gw_p = TimeSeries(data = data[0].data.data, t0=data[0].epoch, dt = data[0].deltaT)\n",
    "    data_gw_c = TimeSeries(data = data[1].data.data, t0=data[1].epoch, dt = data[1].deltaT)\n",
    "    ax[i].plot((data_gw_p.times.value-100)*1e3, data_gw_p.value, lw=1, alpha=0.8)\n",
    "    ax[i].plot((data_gw_c.times.value-100)*1e3, data_gw_c.value, lw=1, alpha=0.8)\n",
    "\n",
    "    \n",
    "    \n",
    "    ax[i].set_xlabel(\"Time / ms\")\n",
    "\n",
    "    ax[i].set_xticks([-100, 0, 100])\n",
    "    ax[i].set_xlim([-120,120])\n",
    "    \n",
    "#ax[2,0].set_ylabel(\"Frequency [Hz]\")\n",
    "#ax[1,0].set_ylabel(\"Frequency [Hz]\")\n",
    "ax[0].set_ylabel(\"Strain / Hz$^{-1/2}$\")\n",
    "    \n",
    "        \n",
    "f = thesisify(f, height=0.7);\n",
    "f.subplots_adjust(wspace=0.05, hspace=0.2)\n",
    "\n",
    "\n",
    "\n",
    "f.savefig(\"{}/sources/minke-adhoc.{}\".format(fig_dir, fig_ext))\n"
   ]
  },
  {
   "cell_type": "code",
   "execution_count": null,
   "metadata": {
    "collapsed": true
   },
   "outputs": [],
   "source": []
  }
 ],
 "metadata": {
  "kernelspec": {
   "display_name": "Python 2",
   "language": "python",
   "name": "python2"
  },
  "language_info": {
   "codemirror_mode": {
    "name": "ipython",
    "version": 2
   },
   "file_extension": ".py",
   "mimetype": "text/x-python",
   "name": "python",
   "nbconvert_exporter": "python",
   "pygments_lexer": "ipython2",
   "version": "2.7.12"
  }
 },
 "nbformat": 4,
 "nbformat_minor": 2
}
