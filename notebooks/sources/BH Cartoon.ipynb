{
 "cells": [
  {
   "cell_type": "code",
   "execution_count": 1,
   "metadata": {
    "collapsed": true
   },
   "outputs": [],
   "source": [
    "fig_dir = \"../../figures\"\n",
    "fig_ext = \"pdf\""
   ]
  },
  {
   "cell_type": "code",
   "execution_count": 2,
   "metadata": {
    "collapsed": true
   },
   "outputs": [],
   "source": [
    "import matplotlib.pyplot as plt\n",
    "import thesis\n",
    "import numpy as np"
   ]
  },
  {
   "cell_type": "code",
   "execution_count": 3,
   "metadata": {
    "collapsed": true
   },
   "outputs": [],
   "source": [
    "import pycbc.waveform"
   ]
  },
  {
   "cell_type": "code",
   "execution_count": 4,
   "metadata": {
    "collapsed": true
   },
   "outputs": [],
   "source": [
    "waveform = pycbc.waveform.get_td_waveform(approximant=\"IMRPhenomPv2\", delta_t = 0.0001, mass1=30, mass2=30, f_lower=30)"
   ]
  },
  {
   "cell_type": "code",
   "execution_count": 6,
   "metadata": {
    "collapsed": false
   },
   "outputs": [
    {
     "name": "stderr",
     "output_type": "stream",
     "text": [
      "/home/daniel/.virtualenvs/minke/local/lib/python2.7/site-packages/matplotlib/font_manager.py:1331: UserWarning: findfont: Font family [u'cursive'] not found. Falling back to DejaVu Sans\n",
      "  (prop.get_family(), self.defaultFamily[fontext]))\n"
     ]
    }
   ],
   "source": [
    "f, ax = plt.subplots(1,1, dpi=300)\n",
    "ax.set_xlim([-.2, .03])\n",
    "hrss = np.sqrt(waveform[0].data**2 + waveform[1].data**2)\n",
    "inspiral = (-.2 <  waveform[0].sample_times) & (waveform[0].sample_times < -0.01)\n",
    "merger = (-.01 <  waveform[0].sample_times) & (waveform[0].sample_times < -0.005)\n",
    "ringdown = (-.005 <  waveform[0].sample_times) & (waveform[0].sample_times < 2)\n",
    "ax.fill_between(waveform[0].sample_times[inspiral], -hrss[inspiral], hrss[inspiral], alpha=0.4, color=thesis.colors['blue'])\n",
    "ax.fill_between(waveform[0].sample_times[merger], -hrss[merger], hrss[merger], alpha=0.4, color=thesis.colors['yellow'])\n",
    "ax.fill_between(waveform[0].sample_times[ringdown], -hrss[ringdown], hrss[ringdown], alpha=0.4, color=thesis.colors['purple'])\n",
    "\n",
    "\n",
    "ax.plot(waveform[0].sample_times, waveform[0].data, color='k')\n",
    "\n",
    "ax.set_ylabel(\"Strain / Hz$^{-1/2}$\")\n",
    "ax.set_xlabel(\"Time / s\")\n",
    "f = thesis.thesisify(f)\n",
    "\n",
    "\n",
    "f.savefig(\"{}/sources/bbh-cartoon.{}\".format(fig_dir, fig_ext))"
   ]
  },
  {
   "cell_type": "code",
   "execution_count": null,
   "metadata": {
    "collapsed": true
   },
   "outputs": [],
   "source": []
  }
 ],
 "metadata": {
  "kernelspec": {
   "display_name": "Python 2",
   "language": "python",
   "name": "python2"
  },
  "language_info": {
   "codemirror_mode": {
    "name": "ipython",
    "version": 2
   },
   "file_extension": ".py",
   "mimetype": "text/x-python",
   "name": "python",
   "nbconvert_exporter": "python",
   "pygments_lexer": "ipython2",
   "version": "2.7.12"
  }
 },
 "nbformat": 4,
 "nbformat_minor": 2
}
