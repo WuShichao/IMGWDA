{
 "cells": [
  {
   "cell_type": "code",
   "execution_count": 20,
   "metadata": {},
   "outputs": [],
   "source": [
    "# Gravitational wave spectrum diagram\n",
    "import matplotlib.pyplot as plt\n",
    "#plt.style.use(\"../thesis-style.mpl\")\n",
    "\n",
    "import astropy.units as u\n",
    "import numpy as np\n",
    "\n",
    "import thesis\n",
    "\n",
    "import grasshopper.interferometers as ifo\n",
    "import grasshopper.timingarray as arrays"
   ]
  },
  {
   "cell_type": "code",
   "execution_count": 21,
   "metadata": {},
   "outputs": [],
   "source": [
    "parameters = {\n",
    "    \"acoustic\": {\n",
    "        \"color\": \"red\",\n",
    "        \"range\": [1e0, 1e4]\n",
    "    },\n",
    "    \"space\": {\n",
    "        \"color\":\"blue\",\n",
    "        \"range\": [1e-4, 1e0]\n",
    "    },\n",
    "    \"cosmological\": {\n",
    "        \"color\":\"green\",\n",
    "        \"range\": [1e0, 1e-12]\n",
    "    }\n",
    "}"
   ]
  },
  {
   "cell_type": "code",
   "execution_count": 19,
   "metadata": {},
   "outputs": [],
   "source": [
    "#ipta = arrays.IPTA()"
   ]
  },
  {
   "cell_type": "code",
   "execution_count": 12,
   "metadata": {},
   "outputs": [
    {
     "data": {
      "text/plain": [
       "array([1.00000000e-09, 1.15139540e-09, 1.32571137e-09, 1.52641797e-09,\n",
       "       1.75751062e-09, 2.02358965e-09, 2.32995181e-09, 2.68269580e-09,\n",
       "       3.08884360e-09, 3.55648031e-09, 4.09491506e-09, 4.71486636e-09,\n",
       "       5.42867544e-09, 6.25055193e-09, 7.19685673e-09, 8.28642773e-09,\n",
       "       9.54095476e-09, 1.09854114e-08, 1.26485522e-08, 1.45634848e-08,\n",
       "       1.67683294e-08, 1.93069773e-08, 2.22299648e-08, 2.55954792e-08,\n",
       "       2.94705170e-08, 3.39322177e-08, 3.90693994e-08, 4.49843267e-08,\n",
       "       5.17947468e-08, 5.96362332e-08, 6.86648845e-08, 7.90604321e-08,\n",
       "       9.10298178e-08, 1.04811313e-07, 1.20679264e-07, 1.38949549e-07,\n",
       "       1.59985872e-07, 1.84206997e-07, 2.12095089e-07, 2.44205309e-07,\n",
       "       2.81176870e-07, 3.23745754e-07, 3.72759372e-07, 4.29193426e-07,\n",
       "       4.94171336e-07, 5.68986603e-07, 6.55128557e-07, 7.54312006e-07,\n",
       "       8.68511374e-07, 1.00000000e-06])"
      ]
     },
     "execution_count": 12,
     "metadata": {},
     "output_type": "execute_result"
    }
   ],
   "source": [
    "#ipta.frequencies"
   ]
  },
  {
   "cell_type": "code",
   "execution_count": 22,
   "metadata": {},
   "outputs": [
    {
     "name": "stdout",
     "output_type": "stream",
     "text": [
      "[7.30278141e-23 7.29269837e-23 7.28262926e-23 ... 3.60739788e-22\n",
      " 3.61236765e-22 3.61734430e-22]\n"
     ]
    },
    {
     "data": {
      "image/png": "[encoded data removed]",
      "text/plain": [
       "<matplotlib.figure.Figure at 0x7f1c8df8f810>"
      ]
     },
     "metadata": {},
     "output_type": "display_data"
    }
   ],
   "source": [
    "figsize = (6.0, 6.0/1.618) \n",
    "f, ax = plt.subplots(1,1, figsize=figsize)\n",
    "\n",
    "ax.set_xscale(\"log\")\n",
    "ax.set_yscale(\"log\")\n",
    "ax.set_xlim([1e-12, 5e5])\n",
    "\n",
    "aligo = ifo.AdvancedLIGO()\n",
    "#ax.text(280, 6e-23, r\"\\textsf{aLIGO}\", rotation=60, rotation_mode='anchor', fontsize=6)\n",
    "geo = ifo.GEO()\n",
    "#ax.text(280, 1.5e-21, r\"\\textsf{GEO}\", rotation=60, rotation_mode='anchor', fontsize=6)\n",
    "elisa = ifo.EvolvedLISA()\n",
    "#bdecigo = ifo.BDecigo()\n",
    "decigo = ifo.Decigo()\n",
    "#bbo = ifo.BigBangObservatory()\n",
    "print(decigo.noise_amplitude(decigo.frequencies))\n",
    "lisa = ifo.LISA()\n",
    "#ipta = arrays.IPTA()\n",
    "#ax.text(0.07, 3e-20, r\"\\textsf{eLISA}\", rotation=60, rotation_mode='anchor', fontsize=6)\n",
    "aligo.plot(ax, color=\"k\", lw=1)\n",
    "lisa.plot(ax, color=\"k\", lw=1)\n",
    "#bdecigo.plot(ax, color=\"k\", lw=1)\n",
    "#bbo.plot(ax)\n",
    "decigo.plot(ax, color=\"k\", lw=1)\n",
    "#elisa.plot(ax, color=\"k\", lw=1)\n",
    "geo.plot(ax, color=\"k\", lw=1)\n",
    "\n",
    "#ipta.plot(ax, frequencies=ipta.frequencies, color=\"k\", lw=1)\n",
    "\n",
    "for band in parameters.items():\n",
    "    ymax = ax.get_ylim()[1]\n",
    "    #ax.text((band[1][\"range\"][1] - band[1][\"range\"][0])/2, ymax-100, r\"{}\".format(band[0]))\n",
    "    ax.axvspan(band[1][\"range\"][0], band[1][\"range\"][1], alpha=0.1, color=band[1][\"color\"])\n",
    "#ax.grid(which=\"minor\", lw=0.5, linestyle=\"..\", zorder=100)\n",
    "\n",
    "import grasshopper.sources as sources\n",
    "# sources\n",
    "#cbc = sources.IMR(m1=30*u.solMass, m2=32*u.solMass, r=900*1e6*u.parsec)\n",
    "#cbc.plot(ax)\n",
    "\n",
    "thesis.labelLines(f.gca().get_lines(), fontsize=8)\n",
    "\n",
    "f.tight_layout()\n",
    "\n",
    "f = thesis.thesisify(f) #thesis.set_fonts(f)\n",
    "\n",
    "f.savefig(\"gw-spectrum.pdf\", dpi=300)"
   ]
  },
  {
   "cell_type": "code",
   "execution_count": 9,
   "metadata": {},
   "outputs": [
    {
     "ename": "NameError",
     "evalue": "name 'ipta' is not defined",
     "output_type": "error",
     "traceback": [
      "\u001b[0;31m\u001b[0m",
      "\u001b[0;31mNameError\u001b[0mTraceback (most recent call last)",
      "\u001b[0;32m<ipython-input-9-02e1519358e9>\u001b[0m in \u001b[0;36m<module>\u001b[0;34m()\u001b[0m\n\u001b[0;32m----> 1\u001b[0;31m \u001b[0mipta\u001b[0m\u001b[0;34m.\u001b[0m\u001b[0mplot\u001b[0m\u001b[0;34m(\u001b[0m\u001b[0max\u001b[0m\u001b[0;34m,\u001b[0m \u001b[0mcolor\u001b[0m\u001b[0;34m=\u001b[0m\u001b[0;34m\"k\"\u001b[0m\u001b[0;34m,\u001b[0m \u001b[0mlw\u001b[0m\u001b[0;34m=\u001b[0m\u001b[0;36m1\u001b[0m\u001b[0;34m)\u001b[0m\u001b[0;34m\u001b[0m\u001b[0m\n\u001b[0m",
      "\u001b[0;31mNameError\u001b[0m: name 'ipta' is not defined"
     ]
    }
   ],
   "source": []
  },
  {
   "cell_type": "code",
   "execution_count": null,
   "metadata": {},
   "outputs": [],
   "source": []
  }
 ],
 "metadata": {
  "kernelspec": {
   "display_name": "Python 2",
   "language": "python",
   "name": "python2"
  },
  "language_info": {
   "codemirror_mode": {
    "name": "ipython",
    "version": 2
   },
   "file_extension": ".py",
   "mimetype": "text/x-python",
   "name": "python",
   "nbconvert_exporter": "python",
   "pygments_lexer": "ipython2",
   "version": "2.7.12"
  }
 },
 "nbformat": 4,
 "nbformat_minor": 2
}
