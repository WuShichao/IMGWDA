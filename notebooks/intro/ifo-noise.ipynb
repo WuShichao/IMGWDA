{
 "cells": [
  {
   "cell_type": "code",
   "execution_count": 17,
   "metadata": {},
   "outputs": [],
   "source": [
    "import grasshopper.interferometers as ifo\n",
    "import astropy.units as u\n",
    "import astropy.constants as c\n",
    "import numpy as np"
   ]
  },
  {
   "cell_type": "code",
   "execution_count": 25,
   "metadata": {},
   "outputs": [],
   "source": [
    "import thesis"
   ]
  },
  {
   "cell_type": "code",
   "execution_count": 18,
   "metadata": {},
   "outputs": [],
   "source": [
    "torr = 101325/760 * u.pascal"
   ]
  },
  {
   "cell_type": "code",
   "execution_count": 19,
   "metadata": {},
   "outputs": [],
   "source": [
    "class AdvancedDetector(ifo.AdvancedLIGO):\n",
    "    residual_gas_pressure = 3e-6 * torr\n",
    "    temperature = 300 * u.Kelvin\n",
    "    residual_gas_mass = 2 * u.u\n",
    "    \n",
    "    properties = {\n",
    "            'infrastructure': {\n",
    "                'arms': {\n",
    "                    'number': 2,\n",
    "                    'finesse': 450,\n",
    "                },\n",
    "                'residual_gas': {\n",
    "                    'pressure': 3e-6 * torr,\n",
    "                    'mass': 2 * u.u,\n",
    "                    'polarizability': 7.8e-31 *u.meter**3\n",
    "            }\n",
    "        },\n",
    "            'suspension': {\n",
    "                'resonant_frequency': 0.75 * u.hertz,\n",
    "                'stacks_no': 4,\n",
    "        },\n",
    "        \n",
    "            'laser':  {\n",
    "                'wavelength': 1064 * u.nanometer,\n",
    "                'type': \"Nd:YAG\"\n",
    "        },\n",
    "            'optics': {\n",
    "                'curvature': {\n",
    "                    'ITM': 1934 * u.meter,\n",
    "                    'ETM': 2245 * u.meter\n",
    "                }\n",
    "            }\n",
    "        }\n",
    "    \n",
    "    def psd_seismic(self, frequency):\n",
    "        \"\"\"\n",
    "        Calculate the seismic noise for the interferometer.\n",
    "        \n",
    "        Parameters\n",
    "        ----------\n",
    "        frequency : float\n",
    "            The frequency at which the PSD should be evaluated.\n",
    "        \"\"\"\n",
    "        s_ground = 1e-18 * u.meter**2 / u.hertz * (10*u.hertz / frequency)**4\n",
    "        f_pen = self.properties['suspension']['resonant_frequency']\n",
    "        \n",
    "        return self.length**2 * s_ground * (f_pen / frequency)**4\n",
    "    \n",
    "    def residual_gas(self, frequency):\n",
    "        \"\"\"\n",
    "        Calculate the noise spectrum due to residual gas in the interferometer.\n",
    "\n",
    "        Parameters\n",
    "        ----------\n",
    "        frequency : float\n",
    "            The frequency at which the PSD should be evaluated.\n",
    "\n",
    "        Returns\n",
    "        -------\n",
    "        psd : float\n",
    "            The power spectral density due to residual gas at the frequency.\n",
    "\n",
    "        Notes\n",
    "        -----\n",
    "        This method is based off the implementation of gas noise from the GWINC\n",
    "        Matlab package. That function was itself based of the LIGO document\n",
    "            Optical Pathlength Noise in Sensitive Interferometers Due to Residual Gas.\n",
    "        See DCC P940008-00\n",
    "        \"\"\"\n",
    "        \n",
    "        number_density = self.properties['infrastructure']['residual_gas']['pressure'] / (c.k_B * self.temperature)\n",
    "        gas_velocity = np.sqrt(2*c.k_B*self.temperature / self.properties['infrastructure']['residual_gas']['mass'])\n",
    "        \n",
    "        # The g resonators of the test masses\n",
    "        g1 = 1 - self.length / self.properties['optics']['curvature']['ITM']\n",
    "        g2 = 1 - self.length / self.properties['optics']['curvature']['ETM']\n",
    "        \n",
    "        # The beam waist size\n",
    "        waist = self.length * self.properties['laser']['wavelength']\n",
    "        waist *= np.sqrt(((g1*g2)*(1-g1*g2)) / (g1+g2-2*g1*g2)**2)\n",
    "        waist = np.sqrt(waist)\n",
    "        \n",
    "        # The Rayleigh range\n",
    "        rayleigh = (np.pi * waist**2 / self.properties['laser']['wavelength']).to(u.meter)\n",
    "        \n",
    "        # ITM location relative to the waist\n",
    "        z_itm = (- (( g2*(1-g1) ) / (g1+g2 - 2*g1*g2))*self.length).to(u.meter)\n",
    "        z_etm = ((( g1*(1-g2) ) / (g1+g2 - 2*g1*g2))*self.length).to(u.meter)\n",
    "        \n",
    "        # Take the first-order expansion of the integral to avoid\n",
    "        # the need for numerical integration.\n",
    "        z_int = np.log(z_etm.value + np.sqrt(z_etm**2 + rayleigh**2).value)\n",
    "        z_int -= np.log(z_itm.value + np.sqrt(z_itm**2 + rayleigh**2).value)\n",
    "        z_int *= rayleigh / waist\n",
    "        z_int = z_int - 2*np.pi*self.length*frequency / gas_velocity\n",
    "        #print z_int\n",
    "        # Calculate the path length for a single arm\n",
    "        z_int *= ( (4*number_density*(2*np.pi*self.properties['infrastructure']['residual_gas']['polarizability'])**2)/gas_velocity)\n",
    "        z_int[z_int < 0] = 0\n",
    "        psd = self.properties['infrastructure']['arms']['number'] * z_int / self.length**2\n",
    "        return np.sqrt(psd).decompose()"
   ]
  },
  {
   "cell_type": "code",
   "execution_count": 29,
   "metadata": {},
   "outputs": [],
   "source": [
    "aligo = AdvancedDetector()"
   ]
  },
  {
   "cell_type": "code",
   "execution_count": 30,
   "metadata": {},
   "outputs": [],
   "source": [
    "import matplotlib.pyplot as plt\n",
    "#plt.style.use('/home/daniel/papers/thesis/thesis-style.mpl')\n",
    "%matplotlib inline"
   ]
  },
  {
   "cell_type": "code",
   "execution_count": 31,
   "metadata": {},
   "outputs": [],
   "source": [
    "frequencies = np.logspace(0, 4, 1000)*u.hertz"
   ]
  },
  {
   "cell_type": "code",
   "execution_count": 32,
   "metadata": {},
   "outputs": [
    {
     "data": {
      "image/png": "[encoded data removed]",
      "text/plain": [
       "<matplotlib.figure.Figure at 0x7efdc2caae10>"
      ]
     },
     "metadata": {
      "needs_background": "light"
     },
     "output_type": "display_data"
    }
   ],
   "source": [
    "fig, ax = plt.subplots(1, figsize=(2.5, 2.5))\n",
    "#ax.plot(frequencies, test.residual_gas(frequencies), label='Res. Gas')\n",
    "ax.loglog(frequencies, test.psd_seismic(frequencies), label='Seismic')\n",
    "test.plot(ax, color='k')\n",
    "ax.set_xlim([1e-0, 1e4])\n",
    "ax.set_ylim([1e-24, 1e-18])\n",
    "ax.legend()\n",
    "thesis.thesisify(fig);\n",
    "#fig.savefig(\"/home/daniel/papers/thesis/figures/seismicnoise-psd.pdf\")"
   ]
  },
  {
   "cell_type": "code",
   "execution_count": 1,
   "metadata": {},
   "outputs": [],
   "source": [
    "import lalsimulation"
   ]
  },
  {
   "cell_type": "code",
   "execution_count": 9,
   "metadata": {},
   "outputs": [],
   "source": [
    "import numpy as np"
   ]
  },
  {
   "cell_type": "code",
   "execution_count": 34,
   "metadata": {},
   "outputs": [],
   "source": [
    "lalsimulation.SimNoisePSDQuantum?"
   ]
  },
  {
   "cell_type": "markdown",
   "metadata": {},
   "source": [
    "f\tfrequency (Hz)\n",
    "I0\tlaser power (W)\n",
    "lambda\tlaser wavelength (m)\n",
    "L\tarm length (m)\n",
    "M\tmirror mass (kg)\n",
    "A\taverage per mirror power loss\n",
    "A_BS\tpower loss at beam splitter\n",
    "T_ITM\ttransmittance of ITM\n",
    "T_PRM\ttransmittance of PRM\n",
    "T_SRM\ttransmittance of SRM\n",
    "ds\tdetuning phase (rad)\n",
    "zeta\tdemod/detection/homodyne phase\n",
    "eta\tquantum efficiency of photodiode "
   ]
  },
  {
   "cell_type": "code",
   "execution_count": 36,
   "metadata": {},
   "outputs": [],
   "source": [
    "power = 70\n",
    "wavelength = 1064\n",
    "arm_length = 4000\n",
    "mirror_mass = 40\n",
    "power_loss = 0.01\n",
    "bs_loss = 0.1\n",
    "itm_trans = 0.97\n",
    "prm_trans = 0.97\n",
    "srm_trans = 0.97\n",
    "detune = 0.01\n",
    "homodyne_phase = 0\n",
    "diode_efficiency = 0.99\n",
    "\n",
    "quantum = map(lambda f: lalsimulation.SimNoisePSDQuantum(f, \n",
    "                                                         power, \n",
    "                                                         wavelength,\n",
    "                                                         arm_length,\n",
    "                                                         mirror_mass,\n",
    "                                                         power_loss,\n",
    "                                                         bs_loss, \n",
    "                                                         itm_trans,\n",
    "                                                         prm_trans,\n",
    "                                                         srm_trans,\n",
    "                                                         detune,\n",
    "                                                         homodyne_phase,\n",
    "                                                         diode_efficiency\n",
    "                                                        ), np.logspace(1,4,1000))"
   ]
  },
  {
   "cell_type": "code",
   "execution_count": 41,
   "metadata": {},
   "outputs": [
    {
     "data": {
      "text/plain": [
       "[<matplotlib.lines.Line2D at 0x7efdc2ac5e90>]"
      ]
     },
     "execution_count": 41,
     "metadata": {},
     "output_type": "execute_result"
    },
    {
     "data": {
      "image/png": "[encoded data removed]",
      "text/plain": [
       "<matplotlib.figure.Figure at 0x7efdc2fe80d0>"
      ]
     },
     "metadata": {
      "needs_background": "light"
     },
     "output_type": "display_data"
    }
   ],
   "source": [
    "f = np.logspace(0,4,1000)\n",
    "plt.loglog(f, np.sqrt(f)*quantum)"
   ]
  },
  {
   "cell_type": "code",
   "execution_count": 202,
   "metadata": {},
   "outputs": [],
   "source": [
    "import lalburst"
   ]
  },
  {
   "cell_type": "code",
   "execution_count": 203,
   "metadata": {
    "collapsed": true
   },
   "outputs": [],
   "source": [
    "?lalburst.DestroySimBurst"
   ]
  },
  {
   "cell_type": "code",
   "execution_count": 204,
   "metadata": {
    "collapsed": true
   },
   "outputs": [],
   "source": [
    "?lalburst.GenerateSimBurst"
   ]
  },
  {
   "cell_type": "code",
   "execution_count": 205,
   "metadata": {
    "collapsed": true
   },
   "outputs": [],
   "source": [
    "import lal"
   ]
  },
  {
   "cell_type": "code",
   "execution_count": 206,
   "metadata": {},
   "outputs": [
    {
     "data": {
      "text/plain": [
       "<function _lal.DestroyREAL8Sequence>"
      ]
     },
     "execution_count": 206,
     "metadata": {},
     "output_type": "execute_result"
    }
   ],
   "source": [
    "lal.DestroyREAL8Sequence"
   ]
  },
  {
   "cell_type": "code",
   "execution_count": 208,
   "metadata": {},
   "outputs": [],
   "source": [
    "c = np.random.rand(10) - 0.5"
   ]
  },
  {
   "cell_type": "code",
   "execution_count": 216,
   "metadata": {},
   "outputs": [
    {
     "data": {
      "text/plain": [
       "False"
      ]
     },
     "execution_count": 216,
     "metadata": {},
     "output_type": "execute_result"
    }
   ],
   "source": [
    "(c>0).all()"
   ]
  },
  {
   "cell_type": "code",
   "execution_count": 218,
   "metadata": {},
   "outputs": [
    {
     "data": {
      "text/plain": [
       "array([ 0.37751257, -0.31408815,  0.34505414, -0.25138107,  0.00452426,\n",
       "       -0.29951712, -0.42086505,  0.39938216,  0.07741457, -0.1160444 ,\n",
       "        0.37751257, -0.31408815,  0.34505414, -0.25138107,  0.00452426,\n",
       "       -0.29951712, -0.42086505,  0.39938216,  0.07741457, -0.1160444 ])"
      ]
     },
     "execution_count": 218,
     "metadata": {},
     "output_type": "execute_result"
    }
   ],
   "source": [
    "np.append(c,c)"
   ]
  },
  {
   "cell_type": "code",
   "execution_count": 210,
   "metadata": {},
   "outputs": [
    {
     "data": {
      "text/plain": [
       "False"
      ]
     },
     "execution_count": 210,
     "metadata": {},
     "output_type": "execute_result"
    }
   ],
   "source": [
    "np.all(c > 0)"
   ]
  },
  {
   "cell_type": "code",
   "execution_count": 212,
   "metadata": {},
   "outputs": [
    {
     "data": {
      "text/plain": [
       "True"
      ]
     },
     "execution_count": 212,
     "metadata": {},
     "output_type": "execute_result"
    }
   ],
   "source": [
    "c.all() > 0"
   ]
  },
  {
   "cell_type": "code",
   "execution_count": null,
   "metadata": {
    "collapsed": true
   },
   "outputs": [],
   "source": []
  }
 ],
 "metadata": {
  "kernelspec": {
   "display_name": "Python 2",
   "language": "python",
   "name": "python2"
  },
  "language_info": {
   "codemirror_mode": {
    "name": "ipython",
    "version": 2
   },
   "file_extension": ".py",
   "mimetype": "text/x-python",
   "name": "python",
   "nbconvert_exporter": "python",
   "pygments_lexer": "ipython2",
   "version": "2.7.12"
  },
  "latex_envs": {
   "bibliofile": "biblio.bib",
   "cite_by": "apalike",
   "current_citInitial": 1,
   "eqLabelWithNumbers": true,
   "eqNumInitial": 0
  }
 },
 "nbformat": 4,
 "nbformat_minor": 1
}
